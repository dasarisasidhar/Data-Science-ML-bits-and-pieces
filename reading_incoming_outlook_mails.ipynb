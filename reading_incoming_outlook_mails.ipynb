{
 "cells": [
  {
   "cell_type": "code",
   "execution_count": 1,
   "metadata": {},
   "outputs": [],
   "source": [
    "import win32com.client\n",
    "import ctypes # for the VM_QUIT to stop PumpMessage()\n",
    "import pythoncom\n",
    "import re\n",
    "import time\n",
    "import psutil\n"
   ]
  },
  {
   "cell_type": "code",
   "execution_count": null,
   "metadata": {},
   "outputs": [],
   "source": [
    "\n",
    "class Handler_Class(object):\n",
    "\n",
    "    def __init__(self):\n",
    "        # First action to do when using the class in the DispatchWithEvents     \n",
    "        inbox = self.Application.GetNamespace(\"MAPI\").GetDefaultFolder(6)\n",
    "        messages = inbox.Items\n",
    "        # Check for unread emails when starting the event\n",
    "        for message in messages:\n",
    "            if message.UnRead:\n",
    "                print (message.Subject) # Or whatever code you wish to execute.\n",
    "\n",
    "    def OnQuit(self):\n",
    "        # To stop PumpMessages() when Outlook Quit\n",
    "        # Note: Not sure it works when disconnecting!!\n",
    "        ctypes.windll.user32.PostQuitMessage(0)\n",
    "\n",
    "    def OnNewMailEx(self, receivedItemsIDs):\n",
    "    # RecrivedItemIDs is a collection of mail IDs separated by a \",\".\n",
    "    # You know, sometimes more than 1 mail is received at the same moment.\n",
    "        for ID in receivedItemsIDs.split(\",\"):\n",
    "            mail = self.Session.GetItemFromID(ID)\n",
    "            subject = mail.Subject\n",
    "            print(subject)   \n",
    "            try: \n",
    "                command = re.search(r\"%(.*?)%\", subject).group(1)\n",
    "                print (command) # Or whatever code you wish to execute.\n",
    "            except:\n",
    "                pass\n",
    "\n",
    "# Function to check if outlook is open\n",
    "def check_outlook_open ():\n",
    "    list_process = []\n",
    "    for pid in psutil.pids():\n",
    "        p = psutil.Process(pid)\n",
    "        # Append to the list of process\n",
    "        list_process.append(p.name())\n",
    "    # If outlook open then return True\n",
    "    if 'OUTLOOK.EXE' in list_process:\n",
    "        return True\n",
    "    else:\n",
    "        return False\n",
    "\n",
    "# Loop \n",
    "while True:\n",
    "    try:\n",
    "        outlook_open = check_outlook_open()\n",
    "    except: \n",
    "        outlook_open = False\n",
    "    # If outlook opened then it will start the DispatchWithEvents\n",
    "    if outlook_open == True:\n",
    "        outlook = win32com.client.DispatchWithEvents(\"Outlook.Application\", Handler_Class)\n",
    "        pythoncom.PumpMessages()\n",
    "    # To not check all the time (should increase 10 depending on your needs)\n",
    "    time.sleep(10)"
   ]
  },
  {
   "cell_type": "code",
   "execution_count": null,
   "metadata": {},
   "outputs": [],
   "source": []
  }
 ],
 "metadata": {
  "kernelspec": {
   "display_name": "Python 3",
   "language": "python",
   "name": "python3"
  },
  "language_info": {
   "codemirror_mode": {
    "name": "ipython",
    "version": 3
   },
   "file_extension": ".py",
   "mimetype": "text/x-python",
   "name": "python",
   "nbconvert_exporter": "python",
   "pygments_lexer": "ipython3",
   "version": "3.7.4"
  }
 },
 "nbformat": 4,
 "nbformat_minor": 2
}
